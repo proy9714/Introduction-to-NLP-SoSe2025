{
 "cells": [
  {
   "cell_type": "markdown",
   "id": "65df1ea7",
   "metadata": {},
   "source": [
    "# Naïve Bayes Classifier"
   ]
  },
  {
   "cell_type": "code",
   "execution_count": 1,
   "id": "fe3a4de9",
   "metadata": {},
   "outputs": [],
   "source": [
    "import pandas as pd"
   ]
  },
  {
   "cell_type": "code",
   "execution_count": 2,
   "id": "b148b8bd",
   "metadata": {},
   "outputs": [
    {
     "data": {
      "text/html": [
       "<div>\n",
       "<style scoped>\n",
       "    .dataframe tbody tr th:only-of-type {\n",
       "        vertical-align: middle;\n",
       "    }\n",
       "\n",
       "    .dataframe tbody tr th {\n",
       "        vertical-align: top;\n",
       "    }\n",
       "\n",
       "    .dataframe thead th {\n",
       "        text-align: right;\n",
       "    }\n",
       "</style>\n",
       "<table border=\"1\" class=\"dataframe\">\n",
       "  <thead>\n",
       "    <tr style=\"text-align: right;\">\n",
       "      <th></th>\n",
       "      <th>sentence</th>\n",
       "      <th>class</th>\n",
       "    </tr>\n",
       "  </thead>\n",
       "  <tbody>\n",
       "    <tr>\n",
       "      <th>0</th>\n",
       "      <td>The quick brown fox jumps over the lazy dog.</td>\n",
       "      <td>A</td>\n",
       "    </tr>\n",
       "    <tr>\n",
       "      <th>1</th>\n",
       "      <td>Lorem ipsum dolor sit amet, consectetur adipis...</td>\n",
       "      <td>B</td>\n",
       "    </tr>\n",
       "  </tbody>\n",
       "</table>\n",
       "</div>"
      ],
      "text/plain": [
       "                                            sentence class\n",
       "0       The quick brown fox jumps over the lazy dog.     A\n",
       "1  Lorem ipsum dolor sit amet, consectetur adipis...     B"
      ]
     },
     "execution_count": 2,
     "metadata": {},
     "output_type": "execute_result"
    }
   ],
   "source": [
    "csv = pd.read_csv(\"naive_bayes.csv\")\n",
    "csv"
   ]
  },
  {
   "cell_type": "code",
   "execution_count": 3,
   "id": "7bae8c44",
   "metadata": {},
   "outputs": [],
   "source": [
    "import re\n",
    "\n",
    "def preprocess_text(text):\n",
    "    # Convert to lowercase\n",
    "    text = text.lower()\n",
    "    \n",
    "    # Remove punctuation (you can modify this as needed)\n",
    "    text = re.sub(r'[^\\w\\s]', '', text)\n",
    "    \n",
    "    return text"
   ]
  },
  {
   "cell_type": "code",
   "execution_count": 4,
   "id": "6b5dd9db",
   "metadata": {},
   "outputs": [
    {
     "data": {
      "text/html": [
       "<div>\n",
       "<style scoped>\n",
       "    .dataframe tbody tr th:only-of-type {\n",
       "        vertical-align: middle;\n",
       "    }\n",
       "\n",
       "    .dataframe tbody tr th {\n",
       "        vertical-align: top;\n",
       "    }\n",
       "\n",
       "    .dataframe thead th {\n",
       "        text-align: right;\n",
       "    }\n",
       "</style>\n",
       "<table border=\"1\" class=\"dataframe\">\n",
       "  <thead>\n",
       "    <tr style=\"text-align: right;\">\n",
       "      <th></th>\n",
       "      <th>sentence</th>\n",
       "      <th>class</th>\n",
       "      <th>processed_sentence</th>\n",
       "    </tr>\n",
       "  </thead>\n",
       "  <tbody>\n",
       "    <tr>\n",
       "      <th>0</th>\n",
       "      <td>The quick brown fox jumps over the lazy dog.</td>\n",
       "      <td>A</td>\n",
       "      <td>the quick brown fox jumps over the lazy dog</td>\n",
       "    </tr>\n",
       "    <tr>\n",
       "      <th>1</th>\n",
       "      <td>Lorem ipsum dolor sit amet, consectetur adipis...</td>\n",
       "      <td>B</td>\n",
       "      <td>lorem ipsum dolor sit amet consectetur adipisc...</td>\n",
       "    </tr>\n",
       "  </tbody>\n",
       "</table>\n",
       "</div>"
      ],
      "text/plain": [
       "                                            sentence class  \\\n",
       "0       The quick brown fox jumps over the lazy dog.     A   \n",
       "1  Lorem ipsum dolor sit amet, consectetur adipis...     B   \n",
       "\n",
       "                                  processed_sentence  \n",
       "0        the quick brown fox jumps over the lazy dog  \n",
       "1  lorem ipsum dolor sit amet consectetur adipisc...  "
      ]
     },
     "execution_count": 4,
     "metadata": {},
     "output_type": "execute_result"
    }
   ],
   "source": [
    "processed_sentences = []\n",
    "for sentence in csv['sentence']:\n",
    "    new_sentence = preprocess_text(sentence)\n",
    "    processed_sentences.append(new_sentence)\n",
    "csv['processed_sentence'] = processed_sentences\n",
    "\n",
    "csv"
   ]
  },
  {
   "cell_type": "code",
   "execution_count": 5,
   "id": "a7455308",
   "metadata": {},
   "outputs": [
    {
     "data": {
      "text/plain": [
       "['the',\n",
       " 'quick',\n",
       " 'brown',\n",
       " 'fox',\n",
       " 'jumps',\n",
       " 'over',\n",
       " 'lazy',\n",
       " 'dog',\n",
       " 'lorem',\n",
       " 'ipsum',\n",
       " 'dolor',\n",
       " 'sit',\n",
       " 'amet',\n",
       " 'consectetur',\n",
       " 'adipiscing',\n",
       " 'elit']"
      ]
     },
     "execution_count": 5,
     "metadata": {},
     "output_type": "execute_result"
    }
   ],
   "source": [
    "vocab = []\n",
    "count_a = 0\n",
    "count_b = 0\n",
    "for i, sentence in enumerate(csv[\"processed_sentence\"]):\n",
    "    for word in sentence.split():\n",
    "        \n",
    "        # Count occurrences of words in class A and class\n",
    "        if csv[\"class\"][i] == \"A\":\n",
    "            count_a += 1\n",
    "        else:\n",
    "            count_b += 1\n",
    "                \n",
    "        # Add word to vocabulary if not already present\n",
    "        if word not in vocab:\n",
    "            vocab.append(word)\n",
    "\n",
    "vocab"
   ]
  },
  {
   "cell_type": "code",
   "execution_count": 6,
   "id": "13e765d4",
   "metadata": {},
   "outputs": [
    {
     "data": {
      "text/plain": [
       "(9, 8)"
      ]
     },
     "execution_count": 6,
     "metadata": {},
     "output_type": "execute_result"
    }
   ],
   "source": [
    "count_a, count_b"
   ]
  },
  {
   "cell_type": "code",
   "execution_count": 7,
   "id": "3d54db45",
   "metadata": {},
   "outputs": [
    {
     "name": "stdout",
     "output_type": "stream",
     "text": [
      "P(A): 0.5\n",
      "P(B): 0.5\n"
     ]
    }
   ],
   "source": [
    "pa = 0\n",
    "pb = 0\n",
    "\n",
    "for value in csv[\"class\"]:\n",
    "    if value == \"A\":\n",
    "        pa += 1\n",
    "    else:\n",
    "        pb += 1\n",
    "        \n",
    "pa = pa / len(csv)\n",
    "pb = pb / len(csv)\n",
    "print(\"P(A):\", pa)\n",
    "print(\"P(B):\", pb)"
   ]
  },
  {
   "cell_type": "code",
   "execution_count": 8,
   "id": "5b138287",
   "metadata": {},
   "outputs": [
    {
     "data": {
      "text/plain": [
       "(defaultdict(int,\n",
       "             {'the': 1,\n",
       "              'quick': 1,\n",
       "              'brown': 1,\n",
       "              'fox': 1,\n",
       "              'jumps': 1,\n",
       "              'over': 1,\n",
       "              'lazy': 1,\n",
       "              'dog': 1}),\n",
       " defaultdict(int,\n",
       "             {'lorem': 1,\n",
       "              'ipsum': 1,\n",
       "              'dolor': 1,\n",
       "              'sit': 1,\n",
       "              'amet': 1,\n",
       "              'consectetur': 1,\n",
       "              'adipiscing': 1,\n",
       "              'elit': 1}))"
      ]
     },
     "execution_count": 8,
     "metadata": {},
     "output_type": "execute_result"
    }
   ],
   "source": [
    "from collections import defaultdict\n",
    "\n",
    "class_a = defaultdict(int)\n",
    "class_b = defaultdict(int)\n",
    "\n",
    "for word in vocab:\n",
    "    for i, sentence in enumerate(csv[\"processed_sentence\"]):\n",
    "        if word in sentence.split():\n",
    "            if csv[\"class\"][i] == \"A\":\n",
    "                class_a[word] += 1\n",
    "            else:\n",
    "                class_b[word] += 1\n",
    "                \n",
    "class_a, class_b"
   ]
  },
  {
   "cell_type": "code",
   "execution_count": 9,
   "id": "bf74dc23",
   "metadata": {},
   "outputs": [
    {
     "data": {
      "text/plain": [
       "(defaultdict(int,\n",
       "             {'the': 0.07692307692307693,\n",
       "              'quick': 0.07692307692307693,\n",
       "              'brown': 0.07692307692307693,\n",
       "              'fox': 0.07692307692307693,\n",
       "              'jumps': 0.07692307692307693,\n",
       "              'over': 0.07692307692307693,\n",
       "              'lazy': 0.07692307692307693,\n",
       "              'dog': 0.07692307692307693,\n",
       "              'lorem': 0.038461538461538464,\n",
       "              'ipsum': 0.038461538461538464,\n",
       "              'dolor': 0.038461538461538464,\n",
       "              'sit': 0.038461538461538464,\n",
       "              'amet': 0.038461538461538464,\n",
       "              'consectetur': 0.038461538461538464,\n",
       "              'adipiscing': 0.038461538461538464,\n",
       "              'elit': 0.038461538461538464}),\n",
       " defaultdict(int,\n",
       "             {'lorem': 0.08,\n",
       "              'ipsum': 0.08,\n",
       "              'dolor': 0.08,\n",
       "              'sit': 0.08,\n",
       "              'amet': 0.08,\n",
       "              'consectetur': 0.08,\n",
       "              'adipiscing': 0.08,\n",
       "              'elit': 0.08,\n",
       "              'the': 0.04,\n",
       "              'quick': 0.04,\n",
       "              'brown': 0.04,\n",
       "              'fox': 0.04,\n",
       "              'jumps': 0.04,\n",
       "              'over': 0.04,\n",
       "              'lazy': 0.04,\n",
       "              'dog': 0.04}))"
      ]
     },
     "execution_count": 9,
     "metadata": {},
     "output_type": "execute_result"
    }
   ],
   "source": [
    "for word in vocab:\n",
    "    # Apply Laplace smoothing\n",
    "    class_a[word] = (class_a[word] + 1) / (count_a + len(vocab) + 1)\n",
    "    class_b[word] = (class_b[word] + 1) / (count_b + len(vocab) + 1)\n",
    "    \n",
    "class_a, class_b"
   ]
  },
  {
   "cell_type": "code",
   "execution_count": 10,
   "id": "86d51292",
   "metadata": {},
   "outputs": [],
   "source": [
    "def predict(sentence):\n",
    "    sentence = preprocess_text(sentence)\n",
    "    words = sentence.split()\n",
    "    \n",
    "    # Calculate log probabilities\n",
    "    prob_a = 0\n",
    "    prob_b = 0\n",
    "    \n",
    "    for word in words:\n",
    "        if word in class_a:\n",
    "            prob_a += class_a[word]\n",
    "        else:\n",
    "            prob_a += 1 / (count_a + len(vocab) + 1)  # Laplace smoothing\n",
    "        \n",
    "        if word in class_b:\n",
    "            prob_b += class_b[word]\n",
    "        else:\n",
    "            prob_b += 1 / (count_b + len(vocab) + 1)  # Laplace smoothing\n",
    "            \n",
    "    # Apply prior probabilities\n",
    "    prob_a *= pa\n",
    "    prob_b *= pb\n",
    "    \n",
    "    return \"A\" if prob_a > prob_b else \"B\"  "
   ]
  },
  {
   "cell_type": "code",
   "execution_count": 19,
   "id": "1b57232c",
   "metadata": {},
   "outputs": [
    {
     "data": {
      "text/plain": [
       "'A'"
      ]
     },
     "execution_count": 19,
     "metadata": {},
     "output_type": "execute_result"
    }
   ],
   "source": [
    "predict(\"I am a lazy cow\")"
   ]
  },
  {
   "cell_type": "code",
   "execution_count": 21,
   "id": "1e1e7990",
   "metadata": {},
   "outputs": [
    {
     "data": {
      "text/plain": [
       "'B'"
      ]
     },
     "execution_count": 21,
     "metadata": {},
     "output_type": "execute_result"
    }
   ],
   "source": [
    "predict(\"vini vidi vici\")"
   ]
  },
  {
   "cell_type": "code",
   "execution_count": null,
   "id": "877bcbde",
   "metadata": {},
   "outputs": [],
   "source": []
  }
 ],
 "metadata": {
  "kernelspec": {
   "display_name": ".venv",
   "language": "python",
   "name": "python3"
  },
  "language_info": {
   "codemirror_mode": {
    "name": "ipython",
    "version": 3
   },
   "file_extension": ".py",
   "mimetype": "text/x-python",
   "name": "python",
   "nbconvert_exporter": "python",
   "pygments_lexer": "ipython3",
   "version": "3.12.9"
  }
 },
 "nbformat": 4,
 "nbformat_minor": 5
}
