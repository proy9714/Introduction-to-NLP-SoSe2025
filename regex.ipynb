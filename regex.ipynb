{
 "cells": [
  {
   "cell_type": "markdown",
   "id": "efba8565",
   "metadata": {},
   "source": [
    "# Worksheet 2"
   ]
  },
  {
   "cell_type": "code",
   "execution_count": 1,
   "id": "a80e652d",
   "metadata": {},
   "outputs": [],
   "source": [
    "import re"
   ]
  },
  {
   "cell_type": "code",
   "execution_count": 2,
   "id": "53398ce9",
   "metadata": {},
   "outputs": [
    {
     "data": {
      "text/plain": [
       "['10115']"
      ]
     },
     "execution_count": 2,
     "metadata": {},
     "output_type": "execute_result"
    }
   ],
   "source": [
    "# German ZIP codes\n",
    "\n",
    "txt = \"\"\"Max Mustermann\n",
    "Musterstraße 12\n",
    "10115 Berlin\n",
    "GERMANY\n",
    "\"\"\"\n",
    "\n",
    "x = re.findall(r\"[0-9]{5}\", txt)\n",
    "\n",
    "x"
   ]
  },
  {
   "cell_type": "code",
   "execution_count": 3,
   "id": "53147ae0",
   "metadata": {},
   "outputs": [
    {
     "data": {
      "text/plain": [
       "['Prof.', 'Prof,', 'Dr.', 'Dr,', 'B.Sc.', 'BSc,', 'M.Sc.', 'MSc,', 'B.A.']"
      ]
     },
     "execution_count": 3,
     "metadata": {},
     "output_type": "execute_result"
    }
   ],
   "source": [
    "# Academic titles (Prof., Prof, Dr., Dr, , B.Sc., , BSc, , M.Sc., , MSc, , B.A., ...)\n",
    "\n",
    "txt = \"\"\"\n",
    "Prof., Prof, Dr., Dr, , B.Sc., , BSc, , M.Sc., , MSc, , B.A., ...\n",
    "\"\"\"\n",
    "\n",
    "x = re.findall(r\"[A-Z]+\\.?[A-Z]?[a-z]{0,3}[.,]\", txt)\n",
    "\n",
    "x"
   ]
  },
  {
   "cell_type": "code",
   "execution_count": 4,
   "id": "eacbf6da",
   "metadata": {},
   "outputs": [
    {
     "data": {
      "text/plain": [
       "True"
      ]
     },
     "execution_count": 4,
     "metadata": {},
     "output_type": "execute_result"
    }
   ],
   "source": [
    "# Test whether a binary string (i.e. a string that just contains 0s and 1s) \n",
    "# contains the substring “01” and “10” an equal number of times\n",
    "\n",
    "txt = \"\"\"\n",
    "01100110011001100110011010110\n",
    "\"\"\"\n",
    "\n",
    "x = re.findall(r\"01\", txt)\n",
    "y = re.findall(r\"10\", txt)\n",
    "\n",
    "len(x) == len(y)"
   ]
  },
  {
   "cell_type": "markdown",
   "id": "0a0c5ba6",
   "metadata": {},
   "source": [
    "## 3. Minimum Distance Algorithm"
   ]
  },
  {
   "cell_type": "code",
   "execution_count": 5,
   "id": "5d0faad6",
   "metadata": {},
   "outputs": [],
   "source": [
    "def sub_cost(val1, val2):\n",
    "    if val1 == val2:\n",
    "        return 0\n",
    "    else:\n",
    "        return 1"
   ]
  },
  {
   "cell_type": "code",
   "execution_count": 6,
   "id": "3930e321",
   "metadata": {},
   "outputs": [],
   "source": [
    "def min_edit_distance(source, target, del_cost = 1, ins_cost = 1):\n",
    "    n = len(source)\n",
    "    m = len(target)\n",
    "    d = [[0 for _ in range(m + 1)] for _ in range(n + 1)]\n",
    "        \n",
    "    # Filling up the first column and row of the matrix\n",
    "    for i in range(1, n + 1):\n",
    "        d[i][0] = d[i-1][0] + del_cost\n",
    "    for j in range(1, m + 1):\n",
    "        d[0][j] = d[0][j-1] + ins_cost\n",
    "        \n",
    "    for i in range(1, n + 1):\n",
    "        for j in range(1, m + 1):\n",
    "            d[i][j] = min(\n",
    "                d[i-1][j] + del_cost,  # Deletion\n",
    "                d[i][j-1] + ins_cost,  # Insertion\n",
    "                d[i-1][j-1] + sub_cost(source[i-1], target[j-1])  # Substitution\n",
    "            )\n",
    "            \n",
    "    return d[n][m]"
   ]
  },
  {
   "cell_type": "code",
   "execution_count": 7,
   "id": "a1a21dfb",
   "metadata": {},
   "outputs": [
    {
     "data": {
      "text/plain": [
       "3"
      ]
     },
     "execution_count": 7,
     "metadata": {},
     "output_type": "execute_result"
    }
   ],
   "source": [
    "min_edit_distance(\"kitten\", \"sitting\")"
   ]
  },
  {
   "cell_type": "code",
   "execution_count": 8,
   "id": "066c729d",
   "metadata": {},
   "outputs": [
    {
     "data": {
      "text/plain": [
       "3"
      ]
     },
     "execution_count": 8,
     "metadata": {},
     "output_type": "execute_result"
    }
   ],
   "source": [
    "min_edit_distance(\"kitten\", \"kit\")"
   ]
  },
  {
   "cell_type": "code",
   "execution_count": 9,
   "id": "b807e17d",
   "metadata": {},
   "outputs": [
    {
     "data": {
      "text/plain": [
       "5"
      ]
     },
     "execution_count": 9,
     "metadata": {},
     "output_type": "execute_result"
    }
   ],
   "source": [
    "min_edit_distance(\"bag\", \"raggedy\")"
   ]
  },
  {
   "cell_type": "code",
   "execution_count": 10,
   "id": "63e5170d",
   "metadata": {},
   "outputs": [
    {
     "data": {
      "text/plain": [
       "1"
      ]
     },
     "execution_count": 10,
     "metadata": {},
     "output_type": "execute_result"
    }
   ],
   "source": [
    "min_edit_distance(\"color\", \"colour\")"
   ]
  },
  {
   "cell_type": "code",
   "execution_count": 11,
   "id": "dff67026",
   "metadata": {},
   "outputs": [
    {
     "data": {
      "text/plain": [
       "2"
      ]
     },
     "execution_count": 11,
     "metadata": {},
     "output_type": "execute_result"
    }
   ],
   "source": [
    "min_edit_distance(\"color\", \"colour\", del_cost=2, ins_cost=2)"
   ]
  },
  {
   "cell_type": "markdown",
   "id": "b2d371dd",
   "metadata": {},
   "source": [
    "## 5. Stemming"
   ]
  },
  {
   "cell_type": "code",
   "execution_count": 12,
   "id": "49d6a7d5",
   "metadata": {},
   "outputs": [],
   "source": [
    "sentences = [\n",
    "    \"I own multiple cats.\",\n",
    "    \"Marburg is a nice city.\",\n",
    "    \"It's fairly cold in here.\"\n",
    "]"
   ]
  },
  {
   "cell_type": "code",
   "execution_count": 13,
   "id": "531f11ac",
   "metadata": {},
   "outputs": [],
   "source": [
    "from nltk.tokenize import word_tokenize\n",
    "\n",
    "tokenized_sentences = [word_tokenize(sentence, language='english', preserve_line=False) for sentence in sentences]"
   ]
  },
  {
   "cell_type": "code",
   "execution_count": 14,
   "id": "e75ee0f8",
   "metadata": {},
   "outputs": [
    {
     "data": {
      "text/plain": [
       "[['I', 'own', 'multiple', 'cats', '.'],\n",
       " ['Marburg', 'is', 'a', 'nice', 'city', '.'],\n",
       " ['It', \"'s\", 'fairly', 'cold', 'in', 'here', '.']]"
      ]
     },
     "execution_count": 14,
     "metadata": {},
     "output_type": "execute_result"
    }
   ],
   "source": [
    "tokenized_sentences"
   ]
  },
  {
   "cell_type": "code",
   "execution_count": 15,
   "id": "a9406147",
   "metadata": {},
   "outputs": [],
   "source": [
    "from nltk.stem import *"
   ]
  },
  {
   "cell_type": "code",
   "execution_count": 16,
   "id": "41f37803",
   "metadata": {},
   "outputs": [],
   "source": [
    "from nltk.stem.porter import *\n",
    "porter_stemmer = PorterStemmer()"
   ]
  },
  {
   "cell_type": "code",
   "execution_count": 17,
   "id": "183a6da4",
   "metadata": {},
   "outputs": [],
   "source": [
    "porter_stemmed = [(\" \").join(porter_stemmer.stem(word) for word in sentence) for sentence in tokenized_sentences]"
   ]
  },
  {
   "cell_type": "code",
   "execution_count": 18,
   "id": "13637cc8",
   "metadata": {},
   "outputs": [
    {
     "data": {
      "text/plain": [
       "['i own multipl cat .',\n",
       " 'marburg is a nice citi .',\n",
       " \"it 's fairli cold in here .\"]"
      ]
     },
     "execution_count": 18,
     "metadata": {},
     "output_type": "execute_result"
    }
   ],
   "source": [
    "porter_stemmed"
   ]
  },
  {
   "cell_type": "code",
   "execution_count": 19,
   "id": "3d42d6f1",
   "metadata": {},
   "outputs": [],
   "source": [
    "from nltk.stem.snowball import SnowballStemmer\n",
    "snowball_stemmer = SnowballStemmer(\"english\")"
   ]
  },
  {
   "cell_type": "code",
   "execution_count": 20,
   "id": "13d0ef13",
   "metadata": {},
   "outputs": [],
   "source": [
    "snowball_stemmed = [(\" \").join(snowball_stemmer.stem(word) for word in sentence) for sentence in tokenized_sentences]"
   ]
  },
  {
   "cell_type": "code",
   "execution_count": 21,
   "id": "d7033846",
   "metadata": {},
   "outputs": [
    {
     "data": {
      "text/plain": [
       "['i own multipl cat .',\n",
       " 'marburg is a nice citi .',\n",
       " \"it 's fair cold in here .\"]"
      ]
     },
     "execution_count": 21,
     "metadata": {},
     "output_type": "execute_result"
    }
   ],
   "source": [
    "snowball_stemmed"
   ]
  },
  {
   "cell_type": "code",
   "execution_count": 22,
   "id": "8869c8c7",
   "metadata": {},
   "outputs": [],
   "source": [
    "from nltk.stem import WordNetLemmatizer\n",
    "wnl = WordNetLemmatizer()"
   ]
  },
  {
   "cell_type": "code",
   "execution_count": 23,
   "id": "51407d16",
   "metadata": {},
   "outputs": [],
   "source": [
    "lemmatized_tokens = [(\" \").join(wnl.lemmatize(word) for word in sentence) for sentence in tokenized_sentences]"
   ]
  },
  {
   "cell_type": "code",
   "execution_count": 24,
   "id": "fbc1094e",
   "metadata": {},
   "outputs": [
    {
     "data": {
      "text/plain": [
       "['I own multiple cat .',\n",
       " 'Marburg is a nice city .',\n",
       " \"It 's fairly cold in here .\"]"
      ]
     },
     "execution_count": 24,
     "metadata": {},
     "output_type": "execute_result"
    }
   ],
   "source": [
    "lemmatized_tokens"
   ]
  },
  {
   "cell_type": "code",
   "execution_count": 25,
   "id": "60a33101",
   "metadata": {},
   "outputs": [
    {
     "data": {
      "text/plain": [
       "[('I', 'PRP'), ('own', 'VBP'), ('multiple', 'JJ'), ('cats', 'NNS'), ('.', '.')]"
      ]
     },
     "execution_count": 25,
     "metadata": {},
     "output_type": "execute_result"
    }
   ],
   "source": [
    "from nltk.tag import pos_tag\n",
    "\n",
    "pos_tagged = pos_tag(word_tokenize(sentences[0]))\n",
    "pos_tagged"
   ]
  },
  {
   "cell_type": "code",
   "execution_count": 26,
   "id": "dba62112",
   "metadata": {},
   "outputs": [],
   "source": [
    "from nltk.corpus import wordnet\n",
    "\n",
    "def get_wordnet_pos(treebank_tag):\n",
    "\n",
    "    if treebank_tag.startswith('J'):\n",
    "        return wordnet.ADJ\n",
    "    elif treebank_tag.startswith('V'):\n",
    "        return wordnet.VERB\n",
    "    elif treebank_tag.startswith('N'):\n",
    "        return wordnet.NOUN\n",
    "    elif treebank_tag.startswith('R'):\n",
    "        return wordnet.ADV\n",
    "    else:\n",
    "        return wordnet.NOUN"
   ]
  },
  {
   "cell_type": "code",
   "execution_count": 27,
   "id": "469f9beb",
   "metadata": {},
   "outputs": [
    {
     "data": {
      "text/plain": [
       "[['I', 'own', 'multiple', 'cat', '.'],\n",
       " ['Marburg', 'is', 'a', 'nice', 'city', '.'],\n",
       " ['It', \"'s\", 'fairly', 'cold', 'in', 'here', '.']]"
      ]
     },
     "execution_count": 27,
     "metadata": {},
     "output_type": "execute_result"
    }
   ],
   "source": [
    "lemmatized_tokens_with_tags = [[wnl.lemmatize(word, pos=get_wordnet_pos(word)) for word in sentence] for sentence in tokenized_sentences]\n",
    "lemmatized_tokens_with_tags"
   ]
  },
  {
   "cell_type": "markdown",
   "id": "048bbcf7",
   "metadata": {},
   "source": [
    "## 6. Sentiment Analysis"
   ]
  },
  {
   "cell_type": "code",
   "execution_count": 35,
   "id": "5fc8fb10",
   "metadata": {},
   "outputs": [],
   "source": [
    "from textblob import TextBlob\n",
    "\n",
    "text = \"\"\"\n",
    "We waited one hour in line to check in for our flight. Juuust great, exactly what you need to start of your vacation!\n",
    "\"\"\"\n",
    "\n",
    "blob = TextBlob(text)"
   ]
  },
  {
   "cell_type": "code",
   "execution_count": 36,
   "id": "e7c61f8f",
   "metadata": {},
   "outputs": [
    {
     "data": {
      "text/plain": [
       "[('We', 'PRP'),\n",
       " ('waited', 'VBD'),\n",
       " ('one', 'CD'),\n",
       " ('hour', 'NN'),\n",
       " ('in', 'IN'),\n",
       " ('line', 'NN'),\n",
       " ('to', 'TO'),\n",
       " ('check', 'VB'),\n",
       " ('in', 'IN'),\n",
       " ('for', 'IN'),\n",
       " ('our', 'PRP$'),\n",
       " ('flight', 'NN'),\n",
       " ('Juuust', 'NNP'),\n",
       " ('great', 'JJ'),\n",
       " ('exactly', 'RB'),\n",
       " ('what', 'WP'),\n",
       " ('you', 'PRP'),\n",
       " ('need', 'VBP'),\n",
       " ('to', 'TO'),\n",
       " ('start', 'VB'),\n",
       " ('of', 'IN'),\n",
       " ('your', 'PRP$'),\n",
       " ('vacation', 'NN')]"
      ]
     },
     "execution_count": 36,
     "metadata": {},
     "output_type": "execute_result"
    }
   ],
   "source": [
    "blob.tags"
   ]
  },
  {
   "cell_type": "code",
   "execution_count": 37,
   "id": "6f0d4dee",
   "metadata": {},
   "outputs": [
    {
     "data": {
      "text/plain": [
       "WordList(['juuust'])"
      ]
     },
     "execution_count": 37,
     "metadata": {},
     "output_type": "execute_result"
    }
   ],
   "source": [
    "blob.noun_phrases"
   ]
  },
  {
   "cell_type": "code",
   "execution_count": 38,
   "id": "b563dbad",
   "metadata": {},
   "outputs": [
    {
     "name": "stdout",
     "output_type": "stream",
     "text": [
      "0.0\n",
      "0.55625\n"
     ]
    }
   ],
   "source": [
    "for sentence in blob.sentences:\n",
    "    print(sentence.sentiment.polarity)"
   ]
  },
  {
   "cell_type": "markdown",
   "id": "c8c3037d",
   "metadata": {},
   "source": [
    "## LLMs"
   ]
  },
  {
   "cell_type": "markdown",
   "id": "bf4fe49a",
   "metadata": {},
   "source": [
    "### Prompt\n",
    "\n",
    "Analyze the sentiment of this sentence : We waited one hour in line to check in for our flight. Juuust great, exactly what you need to start of your vacation!"
   ]
  },
  {
   "cell_type": "markdown",
   "id": "5ede05f8",
   "metadata": {},
   "source": [
    "#### Meta Llama 3.1 8B Instruct\n",
    "\n",
    "The sentiment of this sentence is overwhelmingly negative. The speaker is expressing frustration and annoyance at having to wait in line for an hour to check in for their flight, which is supposed to be a relaxing and enjoyable experience, especially at the beginning of a vacation.\n",
    "\n",
    "The use of the phrase \"Juuust great\" is a sarcastic expression of disappointment and sarcasm, implying that waiting in line for an hour is not a great way to start a vacation. The tone is also somewhat ironic, as the speaker is highlighting the opposite of what one would expect to experience at the beginning of a vacation, which is typically meant to be a time of relaxation and enjoyment."
   ]
  },
  {
   "cell_type": "markdown",
   "id": "55f74e8b",
   "metadata": {},
   "source": [
    "#### OpenAI GPT-4.1 (External)\n",
    "\n",
    "The sentiment of the sentence is negative, with a strong tone of sarcasm. The literal description (\"We waited one hour in line to check in for our flight\") reports an inconvenient circumstance, and the follow-up (\"Juuust great, exactly what you need to start off your vacation!\") uses exaggerated language and sarcasm to highlight the speaker's dissatisfaction and frustration. The speaker is clearly unhappy with the situation and is using sarcasm to express their annoyance."
   ]
  },
  {
   "cell_type": "markdown",
   "id": "cd7f8de6",
   "metadata": {},
   "source": []
  }
 ],
 "metadata": {
  "kernelspec": {
   "display_name": ".venv",
   "language": "python",
   "name": "python3"
  },
  "language_info": {
   "codemirror_mode": {
    "name": "ipython",
    "version": 3
   },
   "file_extension": ".py",
   "mimetype": "text/x-python",
   "name": "python",
   "nbconvert_exporter": "python",
   "pygments_lexer": "ipython3",
   "version": "3.12.9"
  }
 },
 "nbformat": 4,
 "nbformat_minor": 5
}
